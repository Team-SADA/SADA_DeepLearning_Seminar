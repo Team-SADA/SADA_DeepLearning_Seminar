{
 "cells": [
  {
   "cell_type": "markdown",
   "source": [
    "# 선형회귀 - y = Wx+b꼴\n",
    "## y=Wx 꼴과는 다르게 편향값이 추가되어, W를 스칼라가 아닌 벡터로 정의한다."
   ],
   "metadata": {
    "collapsed": false,
    "pycharm": {
     "name": "#%% md\n"
    }
   }
  },
  {
   "cell_type": "code",
   "execution_count": 210,
   "outputs": [],
   "source": [
    "import matplotlib.pyplot as plt\n",
    "import numpy as np\n",
    "import random"
   ],
   "metadata": {
    "collapsed": false,
    "pycharm": {
     "name": "#%%\n"
    }
   }
  },
  {
   "cell_type": "markdown",
   "source": [
    "x와 y를 랜덤으로 정한다."
   ],
   "metadata": {
    "collapsed": false,
    "pycharm": {
     "name": "#%% md\n"
    }
   }
  },
  {
   "cell_type": "code",
   "execution_count": 274,
   "outputs": [
    {
     "data": {
      "text/plain": "<Figure size 432x288 with 1 Axes>",
      "image/png": "[encoded data removed]"
     },
     "metadata": {
      "needs_background": "light"
     },
     "output_type": "display_data"
    }
   ],
   "source": [
    "x = 2 * np.random.rand(100, 1)\n",
    "y_train = 4*x + np.random.randn(100, 1)*2\n",
    "plt.scatter(x,y_train)\n",
    "plt.show()"
   ],
   "metadata": {
    "collapsed": false,
    "pycharm": {
     "name": "#%%\n"
    }
   }
  },
  {
   "cell_type": "markdown",
   "source": [
    "W를 2x1의 랜덤한 벡터로 초기화한다.\n",
    "이때 W의 0번째 원소는 W의 1번째 원소는 편향이다"
   ],
   "metadata": {
    "collapsed": false,
    "pycharm": {
     "name": "#%% md\n"
    }
   }
  },
  {
   "cell_type": "code",
   "execution_count": 275,
   "outputs": [
    {
     "data": {
      "text/plain": "(2, 1)"
     },
     "execution_count": 275,
     "metadata": {},
     "output_type": "execute_result"
    }
   ],
   "source": [
    "W = np.array([[random.random()], [random.random()]])\n",
    "W.shape"
   ],
   "metadata": {
    "collapsed": false,
    "pycharm": {
     "name": "#%%\n"
    }
   }
  },
  {
   "cell_type": "code",
   "execution_count": 276,
   "outputs": [
    {
     "data": {
      "text/plain": "array([[0.71097311],\n       [0.2445706 ],\n       [0.11360432],\n       [1.17306205],\n       [0.47280283],\n       [0.66977415],\n       [0.39987069],\n       [0.2482663 ],\n       [1.3769706 ],\n       [0.60636244],\n       [1.37945858],\n       [0.97685431],\n       [0.59951096],\n       [1.84708489],\n       [0.42858303],\n       [1.46495968],\n       [0.02439421],\n       [0.99966309],\n       [1.72382286],\n       [1.58563761],\n       [1.87862586],\n       [1.38950919],\n       [0.68089275],\n       [1.81413963],\n       [1.15651329],\n       [0.58583888],\n       [1.63378202],\n       [1.0230441 ],\n       [0.91720029],\n       [1.05169922],\n       [0.32169081],\n       [1.11354235],\n       [1.74614075],\n       [1.34891557],\n       [0.7024137 ],\n       [0.16966912],\n       [0.90109582],\n       [1.85194744],\n       [1.2547731 ],\n       [1.01795181],\n       [0.02446927],\n       [1.32036899],\n       [0.60848345],\n       [0.11971408],\n       [1.81808386],\n       [1.43783362],\n       [0.381375  ],\n       [0.44915455],\n       [0.47813566],\n       [1.68407502],\n       [1.09371556],\n       [0.67593036],\n       [0.05744811],\n       [0.80383163],\n       [0.73366163],\n       [1.1232832 ],\n       [1.18049417],\n       [0.78524471],\n       [0.93799526],\n       [0.58634996],\n       [1.71064738],\n       [1.89364432],\n       [0.08781658],\n       [0.30987376],\n       [0.43528314],\n       [0.70360169],\n       [0.37535283],\n       [1.01137746],\n       [1.00127267],\n       [0.51594023],\n       [1.74231242],\n       [0.03727771],\n       [1.35408221],\n       [1.59357059],\n       [0.76646001],\n       [1.75613583],\n       [1.09577875],\n       [1.23185958],\n       [1.17454881],\n       [0.43308761],\n       [0.23545675],\n       [0.94138365],\n       [1.56107726],\n       [0.99773405],\n       [1.39448882],\n       [0.35658164],\n       [1.9660891 ],\n       [1.19401651],\n       [1.6256326 ],\n       [0.32575981],\n       [1.89923709],\n       [1.1080323 ],\n       [0.84775572],\n       [1.84823421],\n       [0.40361018],\n       [1.06060982],\n       [0.32510096],\n       [0.10608814],\n       [0.83883288],\n       [1.17508028]])"
     },
     "execution_count": 276,
     "metadata": {},
     "output_type": "execute_result"
    }
   ],
   "source": [
    "x"
   ],
   "metadata": {
    "collapsed": false,
    "pycharm": {
     "name": "#%%\n"
    }
   }
  },
  {
   "cell_type": "code",
   "execution_count": 277,
   "outputs": [
    {
     "data": {
      "text/plain": "(100, 1)"
     },
     "execution_count": 277,
     "metadata": {},
     "output_type": "execute_result"
    }
   ],
   "source": [
    "x.shape"
   ],
   "metadata": {
    "collapsed": false,
    "pycharm": {
     "name": "#%%\n"
    }
   }
  },
  {
   "cell_type": "code",
   "execution_count": 278,
   "outputs": [
    {
     "data": {
      "text/plain": "(100, 1)"
     },
     "execution_count": 278,
     "metadata": {},
     "output_type": "execute_result"
    }
   ],
   "source": [
    "np.ones(shape=(100,1)).shape"
   ],
   "metadata": {
    "collapsed": false,
    "pycharm": {
     "name": "#%%\n"
    }
   }
  },
  {
   "cell_type": "markdown",
   "source": [
    "x를 가중치 W와 행렬곱하기 편하도록 100x2꼴의 행렬로 바꾼다.\n",
    "이때 편향값은 1과 곱해지므로 concatenate 명령어로 모든 x의 원소를 \\[기존원소, 1]로 바꾼다"
   ],
   "metadata": {
    "collapsed": false,
    "pycharm": {
     "name": "#%% md\n"
    }
   }
  },
  {
   "cell_type": "code",
   "execution_count": 279,
   "outputs": [],
   "source": [
    "x_train = np.concatenate((x, np.ones(shape=(100,1))), -1)"
   ],
   "metadata": {
    "collapsed": false,
    "pycharm": {
     "name": "#%%\n"
    }
   }
  },
  {
   "cell_type": "code",
   "execution_count": 280,
   "outputs": [
    {
     "data": {
      "text/plain": "array([[0.71097311, 1.        ],\n       [0.2445706 , 1.        ],\n       [0.11360432, 1.        ],\n       [1.17306205, 1.        ],\n       [0.47280283, 1.        ],\n       [0.66977415, 1.        ],\n       [0.39987069, 1.        ],\n       [0.2482663 , 1.        ],\n       [1.3769706 , 1.        ],\n       [0.60636244, 1.        ],\n       [1.37945858, 1.        ],\n       [0.97685431, 1.        ],\n       [0.59951096, 1.        ],\n       [1.84708489, 1.        ],\n       [0.42858303, 1.        ],\n       [1.46495968, 1.        ],\n       [0.02439421, 1.        ],\n       [0.99966309, 1.        ],\n       [1.72382286, 1.        ],\n       [1.58563761, 1.        ],\n       [1.87862586, 1.        ],\n       [1.38950919, 1.        ],\n       [0.68089275, 1.        ],\n       [1.81413963, 1.        ],\n       [1.15651329, 1.        ],\n       [0.58583888, 1.        ],\n       [1.63378202, 1.        ],\n       [1.0230441 , 1.        ],\n       [0.91720029, 1.        ],\n       [1.05169922, 1.        ],\n       [0.32169081, 1.        ],\n       [1.11354235, 1.        ],\n       [1.74614075, 1.        ],\n       [1.34891557, 1.        ],\n       [0.7024137 , 1.        ],\n       [0.16966912, 1.        ],\n       [0.90109582, 1.        ],\n       [1.85194744, 1.        ],\n       [1.2547731 , 1.        ],\n       [1.01795181, 1.        ],\n       [0.02446927, 1.        ],\n       [1.32036899, 1.        ],\n       [0.60848345, 1.        ],\n       [0.11971408, 1.        ],\n       [1.81808386, 1.        ],\n       [1.43783362, 1.        ],\n       [0.381375  , 1.        ],\n       [0.44915455, 1.        ],\n       [0.47813566, 1.        ],\n       [1.68407502, 1.        ],\n       [1.09371556, 1.        ],\n       [0.67593036, 1.        ],\n       [0.05744811, 1.        ],\n       [0.80383163, 1.        ],\n       [0.73366163, 1.        ],\n       [1.1232832 , 1.        ],\n       [1.18049417, 1.        ],\n       [0.78524471, 1.        ],\n       [0.93799526, 1.        ],\n       [0.58634996, 1.        ],\n       [1.71064738, 1.        ],\n       [1.89364432, 1.        ],\n       [0.08781658, 1.        ],\n       [0.30987376, 1.        ],\n       [0.43528314, 1.        ],\n       [0.70360169, 1.        ],\n       [0.37535283, 1.        ],\n       [1.01137746, 1.        ],\n       [1.00127267, 1.        ],\n       [0.51594023, 1.        ],\n       [1.74231242, 1.        ],\n       [0.03727771, 1.        ],\n       [1.35408221, 1.        ],\n       [1.59357059, 1.        ],\n       [0.76646001, 1.        ],\n       [1.75613583, 1.        ],\n       [1.09577875, 1.        ],\n       [1.23185958, 1.        ],\n       [1.17454881, 1.        ],\n       [0.43308761, 1.        ],\n       [0.23545675, 1.        ],\n       [0.94138365, 1.        ],\n       [1.56107726, 1.        ],\n       [0.99773405, 1.        ],\n       [1.39448882, 1.        ],\n       [0.35658164, 1.        ],\n       [1.9660891 , 1.        ],\n       [1.19401651, 1.        ],\n       [1.6256326 , 1.        ],\n       [0.32575981, 1.        ],\n       [1.89923709, 1.        ],\n       [1.1080323 , 1.        ],\n       [0.84775572, 1.        ],\n       [1.84823421, 1.        ],\n       [0.40361018, 1.        ],\n       [1.06060982, 1.        ],\n       [0.32510096, 1.        ],\n       [0.10608814, 1.        ],\n       [0.83883288, 1.        ],\n       [1.17508028, 1.        ]])"
     },
     "execution_count": 280,
     "metadata": {},
     "output_type": "execute_result"
    }
   ],
   "source": [
    "x_train"
   ],
   "metadata": {
    "collapsed": false,
    "pycharm": {
     "name": "#%%\n"
    }
   }
  },
  {
   "cell_type": "code",
   "execution_count": 281,
   "outputs": [
    {
     "data": {
      "text/plain": "array([[ 1.75231209],\n       [ 0.54345789],\n       [-2.95752369],\n       [ 4.43125493],\n       [ 3.03783757],\n       [ 4.74409903],\n       [ 0.32189938],\n       [ 1.0557902 ],\n       [ 3.91963771],\n       [ 1.66157623],\n       [ 6.08269705],\n       [ 5.92163302],\n       [ 4.09193343],\n       [ 6.50999691],\n       [-0.0911543 ],\n       [ 5.29346641],\n       [ 2.07579203],\n       [ 2.50660392],\n       [ 9.46395708],\n       [ 5.73834889],\n       [ 8.48746712],\n       [ 6.14283462],\n       [ 4.20052404],\n       [ 8.28935755],\n       [ 6.05101331],\n       [-0.45325748],\n       [ 5.82653958],\n       [ 0.65711294],\n       [-0.69389682],\n       [ 1.77887005],\n       [-0.9433423 ],\n       [ 3.63565898],\n       [ 6.64899403],\n       [ 7.01479827],\n       [ 0.19393058],\n       [ 1.9420113 ],\n       [ 6.17616491],\n       [ 5.47488845],\n       [ 5.24086548],\n       [ 5.86759952],\n       [-4.55612728],\n       [ 2.70985609],\n       [ 3.38614029],\n       [-1.85954925],\n       [ 5.64244942],\n       [ 1.446841  ],\n       [ 1.43813736],\n       [ 2.28668612],\n       [ 1.0628588 ],\n       [ 6.79909558],\n       [ 7.3680163 ],\n       [ 0.21679944],\n       [-2.77826035],\n       [ 5.09791543],\n       [ 0.99964448],\n       [-0.23708283],\n       [ 7.64444693],\n       [ 4.47279608],\n       [ 4.2962707 ],\n       [ 1.85537772],\n       [ 7.3683714 ],\n       [ 4.7264744 ],\n       [ 0.62420379],\n       [-2.50293012],\n       [ 3.96326343],\n       [ 7.97806467],\n       [ 1.03404077],\n       [ 6.08792527],\n       [ 5.63100702],\n       [-0.7622712 ],\n       [ 6.06578576],\n       [ 2.36245253],\n       [ 8.10170534],\n       [ 3.3309387 ],\n       [ 0.51241594],\n       [ 6.06997701],\n       [ 0.64291918],\n       [ 2.23979502],\n       [ 3.44562011],\n       [-1.03917991],\n       [ 1.16201225],\n       [ 4.12285005],\n       [ 6.02108891],\n       [ 2.71376874],\n       [ 4.50507552],\n       [-0.33363533],\n       [10.77255039],\n       [ 5.78642325],\n       [11.12415177],\n       [ 3.99203538],\n       [ 4.77357694],\n       [ 2.39408067],\n       [ 5.91671513],\n       [ 8.39272635],\n       [ 0.47666691],\n       [ 3.09773565],\n       [-0.1073005 ],\n       [-3.12030935],\n       [ 1.95481873],\n       [ 6.3508715 ]])"
     },
     "execution_count": 281,
     "metadata": {},
     "output_type": "execute_result"
    }
   ],
   "source": [
    "y_train"
   ],
   "metadata": {
    "collapsed": false,
    "pycharm": {
     "name": "#%%\n"
    }
   }
  },
  {
   "cell_type": "markdown",
   "source": [
    "MSE 오차함수를 만들고 오차값을 확인한다"
   ],
   "metadata": {
    "collapsed": false,
    "pycharm": {
     "name": "#%% md\n"
    }
   }
  },
  {
   "cell_type": "code",
   "execution_count": 282,
   "outputs": [],
   "source": [
    "def mse(x, y, W):\n",
    "    return np.mean((y-x@W)**2)"
   ],
   "metadata": {
    "collapsed": false,
    "pycharm": {
     "name": "#%%\n"
    }
   }
  },
  {
   "cell_type": "code",
   "execution_count": 283,
   "outputs": [
    {
     "data": {
      "text/plain": "13.676287010965567"
     },
     "execution_count": 283,
     "metadata": {},
     "output_type": "execute_result"
    }
   ],
   "source": [
    "mse(x_train, y_train, W)"
   ],
   "metadata": {
    "collapsed": false,
    "pycharm": {
     "name": "#%%\n"
    }
   }
  },
  {
   "cell_type": "code",
   "execution_count": 284,
   "outputs": [
    {
     "data": {
      "text/plain": "(100, 1)"
     },
     "execution_count": 284,
     "metadata": {},
     "output_type": "execute_result"
    }
   ],
   "source": [
    "(y_train-(x_train@W)).shape"
   ],
   "metadata": {
    "collapsed": false,
    "pycharm": {
     "name": "#%%\n"
    }
   }
  },
  {
   "cell_type": "code",
   "execution_count": 285,
   "outputs": [
    {
     "data": {
      "text/plain": "(2, 100)"
     },
     "execution_count": 285,
     "metadata": {},
     "output_type": "execute_result"
    }
   ],
   "source": [
    "x_train.T.shape"
   ],
   "metadata": {
    "collapsed": false,
    "pycharm": {
     "name": "#%%\n"
    }
   }
  },
  {
   "cell_type": "markdown",
   "source": [
    "오차함수의 W에 대한 그래디언트를 구한다. (미분 과정의 자세한 설명은 물어보면 해줄 것)"
   ],
   "metadata": {
    "collapsed": false,
    "pycharm": {
     "name": "#%% md\n"
    }
   }
  },
  {
   "cell_type": "code",
   "execution_count": 286,
   "outputs": [],
   "source": [
    "def differentiated_mse(x, y, W):\n",
    "    return (-x.T)@(y-x@W) / len(x)"
   ],
   "metadata": {
    "collapsed": false,
    "pycharm": {
     "name": "#%%\n"
    }
   }
  },
  {
   "cell_type": "markdown",
   "source": [
    "에포크 1000에 Learning Rate는 0.1로 해서 W를 업데이트 한다."
   ],
   "metadata": {
    "collapsed": false,
    "pycharm": {
     "name": "#%% md\n"
    }
   }
  },
  {
   "cell_type": "code",
   "execution_count": 287,
   "outputs": [],
   "source": [
    "epoch = 1000\n",
    "lr = 0.1\n",
    "\n",
    "for i in range(epoch):\n",
    "    W -= lr*differentiated_mse(x_train, y_train, W)"
   ],
   "metadata": {
    "collapsed": false,
    "pycharm": {
     "name": "#%%\n"
    }
   }
  },
  {
   "cell_type": "code",
   "execution_count": 288,
   "outputs": [
    {
     "data": {
      "text/plain": "<Figure size 432x288 with 1 Axes>",
      "image/png": "[encoded data removed]"
     },
     "metadata": {
      "needs_background": "light"
     },
     "output_type": "display_data"
    }
   ],
   "source": [
    "plt.scatter(x, y_train)\n",
    "plt.show()"
   ],
   "metadata": {
    "collapsed": false,
    "pycharm": {
     "name": "#%%\n"
    }
   }
  },
  {
   "cell_type": "markdown",
   "source": [
    "그래프를 그려 확인한다."
   ],
   "metadata": {
    "collapsed": false,
    "pycharm": {
     "name": "#%% md\n"
    }
   }
  },
  {
   "cell_type": "code",
   "execution_count": 289,
   "outputs": [
    {
     "data": {
      "text/plain": "<Figure size 432x288 with 1 Axes>",
      "image/png": "[encoded data removed]"
     },
     "metadata": {
      "needs_background": "light"
     },
     "output_type": "display_data"
    }
   ],
   "source": [
    "plt.plot(x, x_train@W)\n",
    "plt.scatter(x, y_train)\n",
    "plt.show()"
   ],
   "metadata": {
    "collapsed": false,
    "pycharm": {
     "name": "#%%\n"
    }
   }
  },
  {
   "cell_type": "markdown",
   "source": [
    "W의 값을 확인한다.\n",
    "이때 W의 0번째 원소는 가중치, 1번째 원소는 편향이다."
   ],
   "metadata": {
    "collapsed": false,
    "pycharm": {
     "name": "#%% md\n"
    }
   }
  },
  {
   "cell_type": "code",
   "execution_count": 290,
   "outputs": [
    {
     "data": {
      "text/plain": "array([[ 4.3849122 ],\n       [-0.77273213]])"
     },
     "execution_count": 290,
     "metadata": {},
     "output_type": "execute_result"
    }
   ],
   "source": [
    "W"
   ],
   "metadata": {
    "collapsed": false,
    "pycharm": {
     "name": "#%%\n"
    }
   }
  },
  {
   "cell_type": "code",
   "execution_count": null,
   "outputs": [],
   "source": [],
   "metadata": {
    "collapsed": false,
    "pycharm": {
     "name": "#%%\n"
    }
   }
  }
 ],
 "metadata": {
  "kernelspec": {
   "display_name": "Python 3",
   "language": "python",
   "name": "python3"
  },
  "language_info": {
   "codemirror_mode": {
    "name": "ipython",
    "version": 2
   },
   "file_extension": ".py",
   "mimetype": "text/x-python",
   "name": "python",
   "nbconvert_exporter": "python",
   "pygments_lexer": "ipython2",
   "version": "2.7.6"
  }
 },
 "nbformat": 4,
 "nbformat_minor": 0
}