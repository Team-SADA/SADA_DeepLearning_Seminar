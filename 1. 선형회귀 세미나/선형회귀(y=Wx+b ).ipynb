{
 "cells": [
  {
   "cell_type": "markdown",
   "source": [
    "# 선형회귀 - y = Wx+b꼴\n",
    "## y=Wx 꼴과는 다르게 편향값이 추가되어, W를 스칼라가 아닌 벡터로 정의한다."
   ],
   "metadata": {
    "collapsed": false,
    "pycharm": {
     "name": "#%% md\n"
    }
   }
  },
  {
   "cell_type": "code",
   "execution_count": 1,
   "outputs": [],
   "source": [
    "import matplotlib.pyplot as plt\n",
    "import numpy as np\n",
    "import random"
   ],
   "metadata": {
    "collapsed": false,
    "pycharm": {
     "name": "#%%\n"
    }
   }
  },
  {
   "cell_type": "markdown",
   "source": [
    "x와 y를 랜덤으로 정한다."
   ],
   "metadata": {
    "collapsed": false,
    "pycharm": {
     "name": "#%% md\n"
    }
   }
  },
  {
   "cell_type": "code",
   "execution_count": 2,
   "outputs": [
    {
     "data": {
      "text/plain": "<Figure size 432x288 with 1 Axes>",
      "image/png": "[encoded data removed]"
     },
     "metadata": {
      "needs_background": "light"
     },
     "output_type": "display_data"
    }
   ],
   "source": [
    "x = 2 * np.random.rand(100, 1)\n",
    "y_train = 4*x + 3*np.random.randn(100, 1)+20\n",
    "plt.scatter(x,y_train)\n",
    "plt.show()"
   ],
   "metadata": {
    "collapsed": false,
    "pycharm": {
     "name": "#%%\n"
    }
   }
  },
  {
   "cell_type": "markdown",
   "source": [
    "W를 2x1의 랜덤한 벡터로 초기화한다.\n",
    "이때 W의 0번째 원소는 W의 1번째 원소는 편향이다"
   ],
   "metadata": {
    "collapsed": false,
    "pycharm": {
     "name": "#%% md\n"
    }
   }
  },
  {
   "cell_type": "code",
   "execution_count": 3,
   "outputs": [
    {
     "data": {
      "text/plain": "(2, 1)"
     },
     "execution_count": 3,
     "metadata": {},
     "output_type": "execute_result"
    }
   ],
   "source": [
    "W = np.array([[random.random()], [random.random()]])\n",
    "W.shape"
   ],
   "metadata": {
    "collapsed": false,
    "pycharm": {
     "name": "#%%\n"
    }
   }
  },
  {
   "cell_type": "code",
   "execution_count": 4,
   "outputs": [
    {
     "data": {
      "text/plain": "array([[1.60832961e+00],\n       [1.62926202e-01],\n       [1.46260369e+00],\n       [1.42128964e+00],\n       [1.21292055e+00],\n       [5.07365190e-01],\n       [1.32276776e+00],\n       [6.71526862e-01],\n       [9.20677355e-01],\n       [9.25147481e-01],\n       [1.44166030e+00],\n       [1.74775538e+00],\n       [9.38784834e-01],\n       [2.85244045e-01],\n       [1.08556529e+00],\n       [1.28719651e+00],\n       [1.20928790e+00],\n       [2.71381004e-01],\n       [1.02234117e+00],\n       [1.28863610e+00],\n       [1.43144873e+00],\n       [1.99056908e+00],\n       [3.43954106e-03],\n       [4.75032025e-02],\n       [1.47905589e+00],\n       [1.03369589e+00],\n       [1.85033106e-03],\n       [1.19383873e+00],\n       [2.88342521e-02],\n       [1.66736880e+00],\n       [5.67861074e-01],\n       [9.22907338e-02],\n       [1.95616271e-01],\n       [7.80507917e-01],\n       [1.88616705e+00],\n       [7.91112344e-01],\n       [4.13908183e-01],\n       [1.48779433e-01],\n       [9.41603865e-01],\n       [9.58522695e-01],\n       [1.57950426e+00],\n       [1.94119244e+00],\n       [1.80794542e+00],\n       [5.13222540e-01],\n       [7.32671981e-01],\n       [5.62225575e-01],\n       [1.15153334e+00],\n       [1.02100097e+00],\n       [1.43521758e+00],\n       [1.75947544e+00],\n       [1.92397349e+00],\n       [4.01559507e-01],\n       [3.11557525e-01],\n       [1.34485982e+00],\n       [4.66968634e-01],\n       [1.36876691e+00],\n       [1.32752326e+00],\n       [8.91856334e-01],\n       [9.69595409e-01],\n       [6.21457904e-01],\n       [1.41647844e+00],\n       [4.44960269e-01],\n       [7.05192075e-01],\n       [1.78634615e-02],\n       [1.07606170e+00],\n       [1.02146945e+00],\n       [8.12628415e-01],\n       [1.71060003e+00],\n       [8.26252507e-01],\n       [1.08764593e+00],\n       [1.38736480e+00],\n       [6.01494520e-01],\n       [8.37468262e-01],\n       [6.87751818e-01],\n       [1.21980190e+00],\n       [9.41416950e-01],\n       [1.88785139e+00],\n       [1.01769269e+00],\n       [8.55252993e-01],\n       [1.40374504e+00],\n       [1.57494090e+00],\n       [5.46445641e-01],\n       [5.04208334e-01],\n       [5.87283991e-01],\n       [9.54178565e-01],\n       [1.16004557e+00],\n       [6.27922632e-01],\n       [3.12124757e-01],\n       [1.12431781e+00],\n       [1.82806051e+00],\n       [1.30338767e+00],\n       [8.34610395e-01],\n       [4.66446485e-01],\n       [1.46802115e+00],\n       [1.97143637e-01],\n       [1.73655167e+00],\n       [1.05069812e+00],\n       [1.42337887e+00],\n       [1.33797689e+00],\n       [2.50430779e-01]])"
     },
     "execution_count": 4,
     "metadata": {},
     "output_type": "execute_result"
    }
   ],
   "source": [
    "x"
   ],
   "metadata": {
    "collapsed": false,
    "pycharm": {
     "name": "#%%\n"
    }
   }
  },
  {
   "cell_type": "code",
   "execution_count": 5,
   "outputs": [
    {
     "data": {
      "text/plain": "(100, 1)"
     },
     "execution_count": 5,
     "metadata": {},
     "output_type": "execute_result"
    }
   ],
   "source": [
    "x.shape"
   ],
   "metadata": {
    "collapsed": false,
    "pycharm": {
     "name": "#%%\n"
    }
   }
  },
  {
   "cell_type": "code",
   "execution_count": 6,
   "outputs": [
    {
     "data": {
      "text/plain": "(100, 1)"
     },
     "execution_count": 6,
     "metadata": {},
     "output_type": "execute_result"
    }
   ],
   "source": [
    "np.ones(shape=(100,1)).shape"
   ],
   "metadata": {
    "collapsed": false,
    "pycharm": {
     "name": "#%%\n"
    }
   }
  },
  {
   "cell_type": "markdown",
   "source": [
    "x를 가중치 W와 행렬곱하기 편하도록 100x2꼴의 행렬로 바꾼다.\n",
    "이때 편향값은 1과 곱해지므로 concatenate 명령어로 모든 x의 원소를 \\[기존원소, 1]로 바꾼다"
   ],
   "metadata": {
    "collapsed": false,
    "pycharm": {
     "name": "#%% md\n"
    }
   }
  },
  {
   "cell_type": "code",
   "execution_count": 7,
   "outputs": [],
   "source": [
    "x_train = np.concatenate((x, np.ones(shape=(100,1))), -1)"
   ],
   "metadata": {
    "collapsed": false,
    "pycharm": {
     "name": "#%%\n"
    }
   }
  },
  {
   "cell_type": "code",
   "execution_count": 8,
   "outputs": [
    {
     "data": {
      "text/plain": "array([[1.60832961e+00, 1.00000000e+00],\n       [1.62926202e-01, 1.00000000e+00],\n       [1.46260369e+00, 1.00000000e+00],\n       [1.42128964e+00, 1.00000000e+00],\n       [1.21292055e+00, 1.00000000e+00],\n       [5.07365190e-01, 1.00000000e+00],\n       [1.32276776e+00, 1.00000000e+00],\n       [6.71526862e-01, 1.00000000e+00],\n       [9.20677355e-01, 1.00000000e+00],\n       [9.25147481e-01, 1.00000000e+00],\n       [1.44166030e+00, 1.00000000e+00],\n       [1.74775538e+00, 1.00000000e+00],\n       [9.38784834e-01, 1.00000000e+00],\n       [2.85244045e-01, 1.00000000e+00],\n       [1.08556529e+00, 1.00000000e+00],\n       [1.28719651e+00, 1.00000000e+00],\n       [1.20928790e+00, 1.00000000e+00],\n       [2.71381004e-01, 1.00000000e+00],\n       [1.02234117e+00, 1.00000000e+00],\n       [1.28863610e+00, 1.00000000e+00],\n       [1.43144873e+00, 1.00000000e+00],\n       [1.99056908e+00, 1.00000000e+00],\n       [3.43954106e-03, 1.00000000e+00],\n       [4.75032025e-02, 1.00000000e+00],\n       [1.47905589e+00, 1.00000000e+00],\n       [1.03369589e+00, 1.00000000e+00],\n       [1.85033106e-03, 1.00000000e+00],\n       [1.19383873e+00, 1.00000000e+00],\n       [2.88342521e-02, 1.00000000e+00],\n       [1.66736880e+00, 1.00000000e+00],\n       [5.67861074e-01, 1.00000000e+00],\n       [9.22907338e-02, 1.00000000e+00],\n       [1.95616271e-01, 1.00000000e+00],\n       [7.80507917e-01, 1.00000000e+00],\n       [1.88616705e+00, 1.00000000e+00],\n       [7.91112344e-01, 1.00000000e+00],\n       [4.13908183e-01, 1.00000000e+00],\n       [1.48779433e-01, 1.00000000e+00],\n       [9.41603865e-01, 1.00000000e+00],\n       [9.58522695e-01, 1.00000000e+00],\n       [1.57950426e+00, 1.00000000e+00],\n       [1.94119244e+00, 1.00000000e+00],\n       [1.80794542e+00, 1.00000000e+00],\n       [5.13222540e-01, 1.00000000e+00],\n       [7.32671981e-01, 1.00000000e+00],\n       [5.62225575e-01, 1.00000000e+00],\n       [1.15153334e+00, 1.00000000e+00],\n       [1.02100097e+00, 1.00000000e+00],\n       [1.43521758e+00, 1.00000000e+00],\n       [1.75947544e+00, 1.00000000e+00],\n       [1.92397349e+00, 1.00000000e+00],\n       [4.01559507e-01, 1.00000000e+00],\n       [3.11557525e-01, 1.00000000e+00],\n       [1.34485982e+00, 1.00000000e+00],\n       [4.66968634e-01, 1.00000000e+00],\n       [1.36876691e+00, 1.00000000e+00],\n       [1.32752326e+00, 1.00000000e+00],\n       [8.91856334e-01, 1.00000000e+00],\n       [9.69595409e-01, 1.00000000e+00],\n       [6.21457904e-01, 1.00000000e+00],\n       [1.41647844e+00, 1.00000000e+00],\n       [4.44960269e-01, 1.00000000e+00],\n       [7.05192075e-01, 1.00000000e+00],\n       [1.78634615e-02, 1.00000000e+00],\n       [1.07606170e+00, 1.00000000e+00],\n       [1.02146945e+00, 1.00000000e+00],\n       [8.12628415e-01, 1.00000000e+00],\n       [1.71060003e+00, 1.00000000e+00],\n       [8.26252507e-01, 1.00000000e+00],\n       [1.08764593e+00, 1.00000000e+00],\n       [1.38736480e+00, 1.00000000e+00],\n       [6.01494520e-01, 1.00000000e+00],\n       [8.37468262e-01, 1.00000000e+00],\n       [6.87751818e-01, 1.00000000e+00],\n       [1.21980190e+00, 1.00000000e+00],\n       [9.41416950e-01, 1.00000000e+00],\n       [1.88785139e+00, 1.00000000e+00],\n       [1.01769269e+00, 1.00000000e+00],\n       [8.55252993e-01, 1.00000000e+00],\n       [1.40374504e+00, 1.00000000e+00],\n       [1.57494090e+00, 1.00000000e+00],\n       [5.46445641e-01, 1.00000000e+00],\n       [5.04208334e-01, 1.00000000e+00],\n       [5.87283991e-01, 1.00000000e+00],\n       [9.54178565e-01, 1.00000000e+00],\n       [1.16004557e+00, 1.00000000e+00],\n       [6.27922632e-01, 1.00000000e+00],\n       [3.12124757e-01, 1.00000000e+00],\n       [1.12431781e+00, 1.00000000e+00],\n       [1.82806051e+00, 1.00000000e+00],\n       [1.30338767e+00, 1.00000000e+00],\n       [8.34610395e-01, 1.00000000e+00],\n       [4.66446485e-01, 1.00000000e+00],\n       [1.46802115e+00, 1.00000000e+00],\n       [1.97143637e-01, 1.00000000e+00],\n       [1.73655167e+00, 1.00000000e+00],\n       [1.05069812e+00, 1.00000000e+00],\n       [1.42337887e+00, 1.00000000e+00],\n       [1.33797689e+00, 1.00000000e+00],\n       [2.50430779e-01, 1.00000000e+00]])"
     },
     "execution_count": 8,
     "metadata": {},
     "output_type": "execute_result"
    }
   ],
   "source": [
    "x_train"
   ],
   "metadata": {
    "collapsed": false,
    "pycharm": {
     "name": "#%%\n"
    }
   }
  },
  {
   "cell_type": "code",
   "execution_count": 9,
   "outputs": [
    {
     "data": {
      "text/plain": "array([[29.6443386 ],\n       [20.17428994],\n       [21.58389713],\n       [21.78073651],\n       [29.57339416],\n       [22.57612212],\n       [27.23552665],\n       [22.15574173],\n       [25.8655455 ],\n       [20.79587603],\n       [34.09346534],\n       [27.45939061],\n       [25.80367637],\n       [18.35462612],\n       [19.90670269],\n       [22.13308556],\n       [20.71893537],\n       [21.69686001],\n       [23.24729333],\n       [24.98325611],\n       [23.60916104],\n       [29.01397013],\n       [23.16686043],\n       [25.9093978 ],\n       [31.77774219],\n       [22.92711855],\n       [17.94486164],\n       [25.52482477],\n       [22.69712863],\n       [29.74316289],\n       [19.36503015],\n       [24.82183685],\n       [21.10172338],\n       [19.63730801],\n       [27.10640972],\n       [25.24377466],\n       [26.09187869],\n       [20.20913778],\n       [22.61753618],\n       [25.95809735],\n       [29.668546  ],\n       [36.70105744],\n       [29.18482251],\n       [24.47874993],\n       [25.41937181],\n       [24.61363473],\n       [26.13558905],\n       [22.56077397],\n       [24.34025452],\n       [27.83705345],\n       [29.54574546],\n       [23.87611373],\n       [21.82601642],\n       [24.00317291],\n       [25.78764129],\n       [26.94434887],\n       [20.29955268],\n       [21.82417214],\n       [20.2529432 ],\n       [21.60024512],\n       [19.38859241],\n       [23.66765469],\n       [23.92341716],\n       [17.05761752],\n       [30.0075125 ],\n       [24.16808391],\n       [22.11155493],\n       [31.33175541],\n       [26.77919554],\n       [23.5598499 ],\n       [29.78321118],\n       [17.60792849],\n       [23.72718046],\n       [25.3528823 ],\n       [24.60475537],\n       [26.37129679],\n       [24.30445323],\n       [23.11169837],\n       [20.87109754],\n       [26.00081837],\n       [25.12865654],\n       [21.64434416],\n       [18.76665675],\n       [21.71386651],\n       [24.33341185],\n       [25.6648133 ],\n       [21.20521031],\n       [22.50456253],\n       [25.94692241],\n       [30.77472639],\n       [23.4176381 ],\n       [25.15015408],\n       [21.50504928],\n       [25.14103879],\n       [17.1946632 ],\n       [26.50922115],\n       [26.21684959],\n       [23.38911544],\n       [19.45916752],\n       [21.6259822 ]])"
     },
     "execution_count": 9,
     "metadata": {},
     "output_type": "execute_result"
    }
   ],
   "source": [
    "y_train"
   ],
   "metadata": {
    "collapsed": false,
    "pycharm": {
     "name": "#%%\n"
    }
   }
  },
  {
   "cell_type": "markdown",
   "source": [
    "MSE 오차함수를 만들고 오차값을 확인한다"
   ],
   "metadata": {
    "collapsed": false,
    "pycharm": {
     "name": "#%% md\n"
    }
   }
  },
  {
   "cell_type": "code",
   "execution_count": 10,
   "outputs": [],
   "source": [
    "def mse(x, y, W):\n",
    "    return np.mean((y-x@W)**2)"
   ],
   "metadata": {
    "collapsed": false,
    "pycharm": {
     "name": "#%%\n"
    }
   }
  },
  {
   "cell_type": "code",
   "execution_count": 11,
   "outputs": [
    {
     "data": {
      "text/plain": "558.1537136005707"
     },
     "execution_count": 11,
     "metadata": {},
     "output_type": "execute_result"
    }
   ],
   "source": [
    "mse(x_train, y_train, W)"
   ],
   "metadata": {
    "collapsed": false,
    "pycharm": {
     "name": "#%%\n"
    }
   }
  },
  {
   "cell_type": "code",
   "execution_count": 12,
   "outputs": [
    {
     "data": {
      "text/plain": "(100, 1)"
     },
     "execution_count": 12,
     "metadata": {},
     "output_type": "execute_result"
    }
   ],
   "source": [
    "(y_train-(x_train@W)).shape"
   ],
   "metadata": {
    "collapsed": false,
    "pycharm": {
     "name": "#%%\n"
    }
   }
  },
  {
   "cell_type": "code",
   "execution_count": 13,
   "outputs": [
    {
     "data": {
      "text/plain": "(2, 100)"
     },
     "execution_count": 13,
     "metadata": {},
     "output_type": "execute_result"
    }
   ],
   "source": [
    "x_train.T.shape"
   ],
   "metadata": {
    "collapsed": false,
    "pycharm": {
     "name": "#%%\n"
    }
   }
  },
  {
   "cell_type": "markdown",
   "source": [
    "오차함수의 W에 대한 그래디언트를 구한다. (미분 과정의 자세한 설명은 물어보면 해줄 것)"
   ],
   "metadata": {
    "collapsed": false,
    "pycharm": {
     "name": "#%% md\n"
    }
   }
  },
  {
   "cell_type": "code",
   "execution_count": 14,
   "outputs": [],
   "source": [
    "def differentiated_mse(x, y, W):\n",
    "    return (-x.T)@(y-x@W) / len(x)"
   ],
   "metadata": {
    "collapsed": false,
    "pycharm": {
     "name": "#%%\n"
    }
   }
  },
  {
   "cell_type": "markdown",
   "source": [
    "에포크 1000에 Learning Rate는 0.1로 해서 W를 업데이트 한다."
   ],
   "metadata": {
    "collapsed": false,
    "pycharm": {
     "name": "#%% md\n"
    }
   }
  },
  {
   "cell_type": "code",
   "execution_count": 15,
   "outputs": [],
   "source": [
    "epoch = 1000\n",
    "lr = 0.1\n",
    "\n",
    "for i in range(epoch):\n",
    "    W -= lr*differentiated_mse(x_train, y_train, W)"
   ],
   "metadata": {
    "collapsed": false,
    "pycharm": {
     "name": "#%%\n"
    }
   }
  },
  {
   "cell_type": "code",
   "execution_count": 16,
   "outputs": [
    {
     "data": {
      "text/plain": "<Figure size 432x288 with 1 Axes>",
      "image/png": "[encoded data removed]"
     },
     "metadata": {
      "needs_background": "light"
     },
     "output_type": "display_data"
    }
   ],
   "source": [
    "plt.scatter(x, y_train)\n",
    "plt.show()"
   ],
   "metadata": {
    "collapsed": false,
    "pycharm": {
     "name": "#%%\n"
    }
   }
  },
  {
   "cell_type": "markdown",
   "source": [
    "그래프를 그려 확인한다."
   ],
   "metadata": {
    "collapsed": false,
    "pycharm": {
     "name": "#%% md\n"
    }
   }
  },
  {
   "cell_type": "code",
   "execution_count": 17,
   "outputs": [
    {
     "data": {
      "text/plain": "<Figure size 432x288 with 1 Axes>",
      "image/png": "[encoded data removed]"
     },
     "metadata": {
      "needs_background": "light"
     },
     "output_type": "display_data"
    }
   ],
   "source": [
    "plt.plot(x, x_train@W)\n",
    "plt.scatter(x, y_train)\n",
    "plt.show()"
   ],
   "metadata": {
    "collapsed": false,
    "pycharm": {
     "name": "#%%\n"
    }
   }
  },
  {
   "cell_type": "markdown",
   "source": [
    "W의 값을 확인한다.\n",
    "이때 W의 0번째 원소는 가중치, 1번째 원소는 편향이다."
   ],
   "metadata": {
    "collapsed": false,
    "pycharm": {
     "name": "#%% md\n"
    }
   }
  },
  {
   "cell_type": "code",
   "execution_count": 18,
   "outputs": [
    {
     "data": {
      "text/plain": "array([[ 4.21162657],\n       [20.10162558]])"
     },
     "execution_count": 18,
     "metadata": {},
     "output_type": "execute_result"
    }
   ],
   "source": [
    "W"
   ],
   "metadata": {
    "collapsed": false,
    "pycharm": {
     "name": "#%%\n"
    }
   }
  },
  {
   "cell_type": "code",
   "execution_count": null,
   "outputs": [],
   "source": [],
   "metadata": {
    "collapsed": false,
    "pycharm": {
     "name": "#%%\n"
    }
   }
  }
 ],
 "metadata": {
  "kernelspec": {
   "display_name": "Python 3",
   "language": "python",
   "name": "python3"
  },
  "language_info": {
   "codemirror_mode": {
    "name": "ipython",
    "version": 2
   },
   "file_extension": ".py",
   "mimetype": "text/x-python",
   "name": "python",
   "nbconvert_exporter": "python",
   "pygments_lexer": "ipython2",
   "version": "2.7.6"
  }
 },
 "nbformat": 4,
 "nbformat_minor": 0
}