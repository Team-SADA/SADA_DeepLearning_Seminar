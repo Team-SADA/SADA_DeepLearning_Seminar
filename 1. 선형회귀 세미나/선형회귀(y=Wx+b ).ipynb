{
 "cells": [
  {
   "cell_type": "markdown",
   "source": [
    "# 선형회귀 - y = Wx+b꼴\n",
    "## y=Wx 꼴과는 다르게 편향값이 추가되어, W를 스칼라가 아닌 벡터로 정의한다."
   ],
   "metadata": {
    "collapsed": false,
    "pycharm": {
     "name": "#%% md\n"
    }
   }
  },
  {
   "cell_type": "code",
   "execution_count": 1,
   "outputs": [],
   "source": [
    "import matplotlib.pyplot as plt\n",
    "import numpy as np\n",
    "import random"
   ],
   "metadata": {
    "collapsed": false,
    "pycharm": {
     "name": "#%%\n"
    }
   }
  },
  {
   "cell_type": "markdown",
   "source": [
    "x와 y를 랜덤으로 정한다."
   ],
   "metadata": {
    "collapsed": false,
    "pycharm": {
     "name": "#%% md\n"
    }
   }
  },
  {
   "cell_type": "code",
   "execution_count": 2,
   "outputs": [
    {
     "data": {
      "text/plain": "<Figure size 432x288 with 1 Axes>",
      "image/png": "[encoded data removed]"
     },
     "metadata": {
      "needs_background": "light"
     },
     "output_type": "display_data"
    }
   ],
   "source": [
    "x = 2 * np.random.rand(100, 1)\n",
    "y_train = 4*x + np.random.randn(100, 1)*2\n",
    "plt.scatter(x,y_train)\n",
    "plt.show()"
   ],
   "metadata": {
    "collapsed": false,
    "pycharm": {
     "name": "#%%\n"
    }
   }
  },
  {
   "cell_type": "markdown",
   "source": [
    "W를 2x1의 랜덤한 벡터로 초기화한다.\n",
    "이때 W의 0번째 원소는 W의 1번째 원소는 편향이다"
   ],
   "metadata": {
    "collapsed": false,
    "pycharm": {
     "name": "#%% md\n"
    }
   }
  },
  {
   "cell_type": "code",
   "execution_count": 3,
   "outputs": [
    {
     "data": {
      "text/plain": "(2, 1)"
     },
     "execution_count": 3,
     "metadata": {},
     "output_type": "execute_result"
    }
   ],
   "source": [
    "W = np.array([[random.random()], [random.random()]])\n",
    "W.shape"
   ],
   "metadata": {
    "collapsed": false,
    "pycharm": {
     "name": "#%%\n"
    }
   }
  },
  {
   "cell_type": "code",
   "execution_count": 4,
   "outputs": [
    {
     "data": {
      "text/plain": "array([[3.75439620e-01],\n       [1.01541559e+00],\n       [1.08450721e-03],\n       [1.63563864e+00],\n       [1.54400271e-01],\n       [7.54288949e-01],\n       [3.12448964e-01],\n       [8.00776806e-01],\n       [1.04821659e+00],\n       [1.71881593e+00],\n       [1.00176158e+00],\n       [1.56423303e+00],\n       [3.56206546e-01],\n       [1.32086059e+00],\n       [4.47238451e-01],\n       [1.79368476e+00],\n       [7.79036685e-02],\n       [9.73513617e-01],\n       [1.51616939e+00],\n       [1.70614486e+00],\n       [1.39833996e+00],\n       [8.67636908e-02],\n       [4.72265401e-01],\n       [1.65632048e-01],\n       [1.80026912e+00],\n       [1.62632366e+00],\n       [1.97652964e+00],\n       [1.75346766e+00],\n       [4.61764153e-01],\n       [8.53587499e-01],\n       [1.59449387e-01],\n       [1.23707111e+00],\n       [5.77379285e-01],\n       [9.85646092e-01],\n       [1.78131169e-01],\n       [1.69536786e-01],\n       [1.55717246e+00],\n       [1.21330606e-01],\n       [1.85432846e+00],\n       [1.01414119e+00],\n       [9.44520678e-01],\n       [1.82380525e+00],\n       [2.83589080e-02],\n       [8.02550897e-01],\n       [9.99533280e-01],\n       [1.76504944e+00],\n       [1.43336427e+00],\n       [1.89843116e+00],\n       [1.26455984e+00],\n       [1.42529003e+00],\n       [4.50495243e-01],\n       [1.59329425e+00],\n       [1.21673235e+00],\n       [1.21793196e+00],\n       [1.47071493e+00],\n       [3.88720473e-01],\n       [6.04329197e-01],\n       [1.21173898e-02],\n       [1.61928833e+00],\n       [1.32467935e+00],\n       [1.41127513e+00],\n       [1.72436924e+00],\n       [1.39546264e+00],\n       [2.97942959e-01],\n       [6.36420612e-01],\n       [2.25584554e-02],\n       [1.12334888e+00],\n       [1.20297854e+00],\n       [1.11567187e+00],\n       [1.43894650e+00],\n       [1.15019333e-01],\n       [9.40431746e-01],\n       [4.98463851e-01],\n       [1.04629711e+00],\n       [4.58534639e-01],\n       [1.37911089e+00],\n       [1.27190168e+00],\n       [9.71254778e-01],\n       [1.06882640e-02],\n       [1.52593895e+00],\n       [7.65497537e-01],\n       [6.48197145e-01],\n       [2.57687464e-01],\n       [1.77521289e+00],\n       [1.53176606e+00],\n       [9.05813799e-01],\n       [1.54519764e+00],\n       [6.50676191e-01],\n       [1.13255557e+00],\n       [3.97036741e-01],\n       [9.77084926e-02],\n       [9.66624499e-01],\n       [4.58995342e-01],\n       [5.09272248e-03],\n       [5.21746042e-01],\n       [1.72811914e+00],\n       [1.80047434e+00],\n       [1.36457996e+00],\n       [1.22583984e+00],\n       [1.91743069e-01]])"
     },
     "execution_count": 4,
     "metadata": {},
     "output_type": "execute_result"
    }
   ],
   "source": [
    "x"
   ],
   "metadata": {
    "collapsed": false,
    "pycharm": {
     "name": "#%%\n"
    }
   }
  },
  {
   "cell_type": "code",
   "execution_count": 5,
   "outputs": [
    {
     "data": {
      "text/plain": "(100, 1)"
     },
     "execution_count": 5,
     "metadata": {},
     "output_type": "execute_result"
    }
   ],
   "source": [
    "x.shape"
   ],
   "metadata": {
    "collapsed": false,
    "pycharm": {
     "name": "#%%\n"
    }
   }
  },
  {
   "cell_type": "code",
   "execution_count": 6,
   "outputs": [
    {
     "data": {
      "text/plain": "(100, 1)"
     },
     "execution_count": 6,
     "metadata": {},
     "output_type": "execute_result"
    }
   ],
   "source": [
    "np.ones(shape=(100,1)).shape"
   ],
   "metadata": {
    "collapsed": false,
    "pycharm": {
     "name": "#%%\n"
    }
   }
  },
  {
   "cell_type": "markdown",
   "source": [
    "x를 가중치 W와 행렬곱하기 편하도록 100x2꼴의 행렬로 바꾼다.\n",
    "이때 편향값은 1과 곱해지므로 concatenate 명령어로 모든 x의 원소를 \\[기존원소, 1]로 바꾼다"
   ],
   "metadata": {
    "collapsed": false,
    "pycharm": {
     "name": "#%% md\n"
    }
   }
  },
  {
   "cell_type": "code",
   "execution_count": 7,
   "outputs": [],
   "source": [
    "x_train = np.concatenate((x, np.ones(shape=(100,1))), -1)"
   ],
   "metadata": {
    "collapsed": false,
    "pycharm": {
     "name": "#%%\n"
    }
   }
  },
  {
   "cell_type": "code",
   "execution_count": 8,
   "outputs": [
    {
     "data": {
      "text/plain": "array([[3.75439620e-01, 1.00000000e+00],\n       [1.01541559e+00, 1.00000000e+00],\n       [1.08450721e-03, 1.00000000e+00],\n       [1.63563864e+00, 1.00000000e+00],\n       [1.54400271e-01, 1.00000000e+00],\n       [7.54288949e-01, 1.00000000e+00],\n       [3.12448964e-01, 1.00000000e+00],\n       [8.00776806e-01, 1.00000000e+00],\n       [1.04821659e+00, 1.00000000e+00],\n       [1.71881593e+00, 1.00000000e+00],\n       [1.00176158e+00, 1.00000000e+00],\n       [1.56423303e+00, 1.00000000e+00],\n       [3.56206546e-01, 1.00000000e+00],\n       [1.32086059e+00, 1.00000000e+00],\n       [4.47238451e-01, 1.00000000e+00],\n       [1.79368476e+00, 1.00000000e+00],\n       [7.79036685e-02, 1.00000000e+00],\n       [9.73513617e-01, 1.00000000e+00],\n       [1.51616939e+00, 1.00000000e+00],\n       [1.70614486e+00, 1.00000000e+00],\n       [1.39833996e+00, 1.00000000e+00],\n       [8.67636908e-02, 1.00000000e+00],\n       [4.72265401e-01, 1.00000000e+00],\n       [1.65632048e-01, 1.00000000e+00],\n       [1.80026912e+00, 1.00000000e+00],\n       [1.62632366e+00, 1.00000000e+00],\n       [1.97652964e+00, 1.00000000e+00],\n       [1.75346766e+00, 1.00000000e+00],\n       [4.61764153e-01, 1.00000000e+00],\n       [8.53587499e-01, 1.00000000e+00],\n       [1.59449387e-01, 1.00000000e+00],\n       [1.23707111e+00, 1.00000000e+00],\n       [5.77379285e-01, 1.00000000e+00],\n       [9.85646092e-01, 1.00000000e+00],\n       [1.78131169e-01, 1.00000000e+00],\n       [1.69536786e-01, 1.00000000e+00],\n       [1.55717246e+00, 1.00000000e+00],\n       [1.21330606e-01, 1.00000000e+00],\n       [1.85432846e+00, 1.00000000e+00],\n       [1.01414119e+00, 1.00000000e+00],\n       [9.44520678e-01, 1.00000000e+00],\n       [1.82380525e+00, 1.00000000e+00],\n       [2.83589080e-02, 1.00000000e+00],\n       [8.02550897e-01, 1.00000000e+00],\n       [9.99533280e-01, 1.00000000e+00],\n       [1.76504944e+00, 1.00000000e+00],\n       [1.43336427e+00, 1.00000000e+00],\n       [1.89843116e+00, 1.00000000e+00],\n       [1.26455984e+00, 1.00000000e+00],\n       [1.42529003e+00, 1.00000000e+00],\n       [4.50495243e-01, 1.00000000e+00],\n       [1.59329425e+00, 1.00000000e+00],\n       [1.21673235e+00, 1.00000000e+00],\n       [1.21793196e+00, 1.00000000e+00],\n       [1.47071493e+00, 1.00000000e+00],\n       [3.88720473e-01, 1.00000000e+00],\n       [6.04329197e-01, 1.00000000e+00],\n       [1.21173898e-02, 1.00000000e+00],\n       [1.61928833e+00, 1.00000000e+00],\n       [1.32467935e+00, 1.00000000e+00],\n       [1.41127513e+00, 1.00000000e+00],\n       [1.72436924e+00, 1.00000000e+00],\n       [1.39546264e+00, 1.00000000e+00],\n       [2.97942959e-01, 1.00000000e+00],\n       [6.36420612e-01, 1.00000000e+00],\n       [2.25584554e-02, 1.00000000e+00],\n       [1.12334888e+00, 1.00000000e+00],\n       [1.20297854e+00, 1.00000000e+00],\n       [1.11567187e+00, 1.00000000e+00],\n       [1.43894650e+00, 1.00000000e+00],\n       [1.15019333e-01, 1.00000000e+00],\n       [9.40431746e-01, 1.00000000e+00],\n       [4.98463851e-01, 1.00000000e+00],\n       [1.04629711e+00, 1.00000000e+00],\n       [4.58534639e-01, 1.00000000e+00],\n       [1.37911089e+00, 1.00000000e+00],\n       [1.27190168e+00, 1.00000000e+00],\n       [9.71254778e-01, 1.00000000e+00],\n       [1.06882640e-02, 1.00000000e+00],\n       [1.52593895e+00, 1.00000000e+00],\n       [7.65497537e-01, 1.00000000e+00],\n       [6.48197145e-01, 1.00000000e+00],\n       [2.57687464e-01, 1.00000000e+00],\n       [1.77521289e+00, 1.00000000e+00],\n       [1.53176606e+00, 1.00000000e+00],\n       [9.05813799e-01, 1.00000000e+00],\n       [1.54519764e+00, 1.00000000e+00],\n       [6.50676191e-01, 1.00000000e+00],\n       [1.13255557e+00, 1.00000000e+00],\n       [3.97036741e-01, 1.00000000e+00],\n       [9.77084926e-02, 1.00000000e+00],\n       [9.66624499e-01, 1.00000000e+00],\n       [4.58995342e-01, 1.00000000e+00],\n       [5.09272248e-03, 1.00000000e+00],\n       [5.21746042e-01, 1.00000000e+00],\n       [1.72811914e+00, 1.00000000e+00],\n       [1.80047434e+00, 1.00000000e+00],\n       [1.36457996e+00, 1.00000000e+00],\n       [1.22583984e+00, 1.00000000e+00],\n       [1.91743069e-01, 1.00000000e+00]])"
     },
     "execution_count": 8,
     "metadata": {},
     "output_type": "execute_result"
    }
   ],
   "source": [
    "x_train"
   ],
   "metadata": {
    "collapsed": false,
    "pycharm": {
     "name": "#%%\n"
    }
   }
  },
  {
   "cell_type": "code",
   "execution_count": 9,
   "outputs": [
    {
     "data": {
      "text/plain": "array([[-2.15289313e+00],\n       [ 6.24068999e+00],\n       [-5.76220322e-01],\n       [ 2.86565017e+00],\n       [ 2.55157455e+00],\n       [ 3.03048848e+00],\n       [-2.01594688e+00],\n       [ 8.28496322e+00],\n       [ 5.12312943e+00],\n       [ 8.42020032e+00],\n       [ 5.98062300e+00],\n       [ 5.34734250e+00],\n       [ 1.94933481e+00],\n       [ 6.39932317e+00],\n       [ 7.75090676e-02],\n       [ 8.72880925e+00],\n       [ 4.98466220e-01],\n       [ 2.72193899e+00],\n       [ 8.18872070e+00],\n       [ 6.17748283e+00],\n       [ 3.68575202e+00],\n       [ 2.05308795e+00],\n       [ 4.76814290e+00],\n       [ 1.17355777e+00],\n       [ 8.32676815e+00],\n       [ 3.71506446e+00],\n       [ 8.04482689e+00],\n       [ 8.31003728e+00],\n       [ 2.13647027e+00],\n       [ 2.42595859e+00],\n       [ 4.68195087e-01],\n       [ 7.43752076e+00],\n       [ 3.13739862e+00],\n       [ 6.84378473e+00],\n       [-8.99382517e-03],\n       [ 1.98544064e+00],\n       [ 7.36862835e+00],\n       [ 4.19035068e+00],\n       [ 4.53285353e+00],\n       [ 2.46754764e+00],\n       [ 1.17655621e+00],\n       [ 1.03316304e+01],\n       [-2.91401576e+00],\n       [ 1.05072995e+00],\n       [ 2.33067166e+00],\n       [ 7.01944789e+00],\n       [ 5.12068733e+00],\n       [ 7.20782428e+00],\n       [ 6.57482262e+00],\n       [ 3.91807987e+00],\n       [-8.67050301e-01],\n       [ 6.66729766e+00],\n       [ 2.55243921e+00],\n       [ 5.06257784e+00],\n       [ 6.98876188e+00],\n       [ 1.71705632e+00],\n       [ 6.09577261e+00],\n       [-4.03445147e-01],\n       [ 7.20941660e+00],\n       [ 7.00597994e+00],\n       [ 5.26879295e+00],\n       [ 1.53636282e+00],\n       [ 3.53671913e+00],\n       [ 4.89190876e+00],\n       [ 1.75680570e+00],\n       [-1.61655984e+00],\n       [ 5.32297361e+00],\n       [ 4.92212777e+00],\n       [ 4.51609559e+00],\n       [ 2.68871044e+00],\n       [-1.01406769e+00],\n       [ 4.86272069e+00],\n       [ 9.11796954e-01],\n       [ 1.49724868e+00],\n       [ 4.23312809e+00],\n       [ 3.37628476e+00],\n       [ 4.90502506e+00],\n       [-1.05865338e+00],\n       [ 6.42601841e-01],\n       [ 7.24269358e+00],\n       [ 2.83482297e+00],\n       [ 3.57996646e+00],\n       [ 3.41864004e-01],\n       [ 6.30521261e+00],\n       [ 5.89283866e+00],\n       [ 2.51333074e+00],\n       [ 2.97255551e+00],\n       [ 9.31927050e-01],\n       [ 4.02059827e+00],\n       [ 3.32498963e+00],\n       [ 4.48871731e-01],\n       [ 1.92892114e+00],\n       [-5.76041072e-01],\n       [-2.63699845e-03],\n       [ 3.14028709e+00],\n       [ 7.63342917e+00],\n       [ 7.14029364e+00],\n       [ 3.71241336e+00],\n       [ 2.04111605e-01],\n       [ 4.14085016e+00]])"
     },
     "execution_count": 9,
     "metadata": {},
     "output_type": "execute_result"
    }
   ],
   "source": [
    "y_train"
   ],
   "metadata": {
    "collapsed": false,
    "pycharm": {
     "name": "#%%\n"
    }
   }
  },
  {
   "cell_type": "markdown",
   "source": [
    "MSE 오차함수를 만들고 오차값을 확인한다"
   ],
   "metadata": {
    "collapsed": false,
    "pycharm": {
     "name": "#%% md\n"
    }
   }
  },
  {
   "cell_type": "code",
   "execution_count": 10,
   "outputs": [],
   "source": [
    "def mse(x, y, W):\n",
    "    return np.mean((y-x@W)**2)"
   ],
   "metadata": {
    "collapsed": false,
    "pycharm": {
     "name": "#%%\n"
    }
   }
  },
  {
   "cell_type": "code",
   "execution_count": 11,
   "outputs": [
    {
     "data": {
      "text/plain": "9.735315008715238"
     },
     "execution_count": 11,
     "metadata": {},
     "output_type": "execute_result"
    }
   ],
   "source": [
    "mse(x_train, y_train, W)"
   ],
   "metadata": {
    "collapsed": false,
    "pycharm": {
     "name": "#%%\n"
    }
   }
  },
  {
   "cell_type": "code",
   "execution_count": 12,
   "outputs": [
    {
     "data": {
      "text/plain": "(100, 1)"
     },
     "execution_count": 12,
     "metadata": {},
     "output_type": "execute_result"
    }
   ],
   "source": [
    "(y_train-(x_train@W)).shape"
   ],
   "metadata": {
    "collapsed": false,
    "pycharm": {
     "name": "#%%\n"
    }
   }
  },
  {
   "cell_type": "code",
   "execution_count": 13,
   "outputs": [
    {
     "data": {
      "text/plain": "(2, 100)"
     },
     "execution_count": 13,
     "metadata": {},
     "output_type": "execute_result"
    }
   ],
   "source": [
    "x_train.T.shape"
   ],
   "metadata": {
    "collapsed": false,
    "pycharm": {
     "name": "#%%\n"
    }
   }
  },
  {
   "cell_type": "markdown",
   "source": [
    "오차함수의 W에 대한 그래디언트를 구한다. (미분 과정의 자세한 설명은 물어보면 해줄 것)"
   ],
   "metadata": {
    "collapsed": false,
    "pycharm": {
     "name": "#%% md\n"
    }
   }
  },
  {
   "cell_type": "code",
   "execution_count": 14,
   "outputs": [],
   "source": [
    "def differentiated_mse(x, y, W):\n",
    "    return (-x.T)@(y-x@W) / len(x)"
   ],
   "metadata": {
    "collapsed": false,
    "pycharm": {
     "name": "#%%\n"
    }
   }
  },
  {
   "cell_type": "markdown",
   "source": [
    "에포크 1000에 Learning Rate는 0.1로 해서 W를 업데이트 한다."
   ],
   "metadata": {
    "collapsed": false,
    "pycharm": {
     "name": "#%% md\n"
    }
   }
  },
  {
   "cell_type": "code",
   "execution_count": 15,
   "outputs": [],
   "source": [
    "epoch = 1000\n",
    "lr = 0.1\n",
    "\n",
    "for i in range(epoch):\n",
    "    W -= lr*differentiated_mse(x_train, y_train, W)"
   ],
   "metadata": {
    "collapsed": false,
    "pycharm": {
     "name": "#%%\n"
    }
   }
  },
  {
   "cell_type": "code",
   "execution_count": 16,
   "outputs": [
    {
     "data": {
      "text/plain": "<Figure size 432x288 with 1 Axes>",
      "image/png": "[encoded data removed]"
     },
     "metadata": {
      "needs_background": "light"
     },
     "output_type": "display_data"
    }
   ],
   "source": [
    "plt.scatter(x, y_train)\n",
    "plt.show()"
   ],
   "metadata": {
    "collapsed": false,
    "pycharm": {
     "name": "#%%\n"
    }
   }
  },
  {
   "cell_type": "markdown",
   "source": [
    "그래프를 그려 확인한다."
   ],
   "metadata": {
    "collapsed": false,
    "pycharm": {
     "name": "#%% md\n"
    }
   }
  },
  {
   "cell_type": "code",
   "execution_count": 17,
   "outputs": [
    {
     "data": {
      "text/plain": "<Figure size 432x288 with 1 Axes>",
      "image/png": "[encoded data removed]"
     },
     "metadata": {
      "needs_background": "light"
     },
     "output_type": "display_data"
    }
   ],
   "source": [
    "plt.plot(x, x_train@W)\n",
    "plt.scatter(x, y_train)\n",
    "plt.show()"
   ],
   "metadata": {
    "collapsed": false,
    "pycharm": {
     "name": "#%%\n"
    }
   }
  },
  {
   "cell_type": "markdown",
   "source": [
    "W의 값을 확인한다.\n",
    "이때 W의 0번째 원소는 가중치, 1번째 원소는 편향이다."
   ],
   "metadata": {
    "collapsed": false,
    "pycharm": {
     "name": "#%% md\n"
    }
   }
  },
  {
   "cell_type": "code",
   "execution_count": 18,
   "outputs": [
    {
     "data": {
      "text/plain": "array([[3.62746901],\n       [0.15915295]])"
     },
     "execution_count": 18,
     "metadata": {},
     "output_type": "execute_result"
    }
   ],
   "source": [
    "W"
   ],
   "metadata": {
    "collapsed": false,
    "pycharm": {
     "name": "#%%\n"
    }
   }
  },
  {
   "cell_type": "code",
   "execution_count": null,
   "outputs": [],
   "source": [],
   "metadata": {
    "collapsed": false,
    "pycharm": {
     "name": "#%%\n"
    }
   }
  }
 ],
 "metadata": {
  "kernelspec": {
   "display_name": "Python 3",
   "language": "python",
   "name": "python3"
  },
  "language_info": {
   "codemirror_mode": {
    "name": "ipython",
    "version": 2
   },
   "file_extension": ".py",
   "mimetype": "text/x-python",
   "name": "python",
   "nbconvert_exporter": "python",
   "pygments_lexer": "ipython2",
   "version": "2.7.6"
  }
 },
 "nbformat": 4,
 "nbformat_minor": 0
}