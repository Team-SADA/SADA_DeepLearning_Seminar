{
 "nbformat": 4,
 "nbformat_minor": 0,
 "metadata": {
  "colab": {
   "name": "LinearRegression.ipynb",
   "provenance": [],
   "collapsed_sections": []
  },
  "kernelspec": {
   "name": "python3",
   "display_name": "Python 3"
  },
  "language_info": {
   "name": "python"
  }
 },
 "cells": [
  {
   "cell_type": "code",
   "execution_count": 13,
   "metadata": {
    "colab": {
     "base_uri": "https://localhost:8080/",
     "height": 265
    },
    "id": "02SY0MavGtrF",
    "outputId": "b3baac25-432c-4887-f105-673414530169",
    "pycharm": {
     "name": "#%%\n"
    }
   },
   "outputs": [
    {
     "data": {
      "text/plain": "<Figure size 432x288 with 1 Axes>",
      "image/png": "[encoded data removed]"
     },
     "metadata": {
      "needs_background": "light"
     },
     "output_type": "display_data"
    }
   ],
   "source": [
    "import matplotlib.pyplot as plt\n",
    "import numpy as np\n",
    "x = 2 * np.random.rand(100)\n",
    "y = 3*x + np.random.randn(100)\n",
    "plt.scatter(x,y)\n",
    "plt.show()"
   ]
  },
  {
   "cell_type": "code",
   "source": [
    "import random\n",
    "W = 3*random.random()"
   ],
   "metadata": {
    "id": "uN3mYKh6Gv2J",
    "pycharm": {
     "name": "#%%\n"
    }
   },
   "execution_count": 14,
   "outputs": []
  },
  {
   "cell_type": "code",
   "source": [
    "print(x[1], y[1])"
   ],
   "metadata": {
    "colab": {
     "base_uri": "https://localhost:8080/"
    },
    "id": "AYV4lYbQIDSw",
    "outputId": "47066d7b-3ece-4e49-dbe0-b4b2914f9a72",
    "pycharm": {
     "name": "#%%\n"
    }
   },
   "execution_count": 15,
   "outputs": [
    {
     "name": "stdout",
     "output_type": "stream",
     "text": [
      "1.9377298936355551 7.136971368178424\n"
     ]
    }
   ]
  },
  {
   "cell_type": "code",
   "source": [
    "y_t = W*x[1]"
   ],
   "metadata": {
    "id": "oyxPQhg9IKqx",
    "pycharm": {
     "name": "#%%\n"
    }
   },
   "execution_count": 16,
   "outputs": []
  },
  {
   "cell_type": "code",
   "source": [
    "y_t"
   ],
   "metadata": {
    "colab": {
     "base_uri": "https://localhost:8080/"
    },
    "id": "CwzmIP05IPGU",
    "outputId": "ab04d4e7-f671-4dc8-de0f-2058f7fabdde",
    "pycharm": {
     "name": "#%%\n"
    }
   },
   "execution_count": 17,
   "outputs": [
    {
     "data": {
      "text/plain": "5.1776487721834465"
     },
     "execution_count": 17,
     "metadata": {},
     "output_type": "execute_result"
    }
   ]
  },
  {
   "cell_type": "code",
   "source": [
    "def mse(x, y, W):\n",
    "    return (y-x*W)*(-x)"
   ],
   "metadata": {
    "id": "DaJg1p2eIZyp",
    "pycharm": {
     "name": "#%%\n"
    }
   },
   "execution_count": 18,
   "outputs": []
  },
  {
   "cell_type": "code",
   "source": [
    "mse(x[1], y[1], W)"
   ],
   "metadata": {
    "colab": {
     "base_uri": "https://localhost:8080/"
    },
    "id": "OBwU7ItpJ6LV",
    "outputId": "e83bd743-1586-46e4-c4f2-330eb5c6a1f5",
    "pycharm": {
     "name": "#%%\n"
    }
   },
   "execution_count": 19,
   "outputs": [
    {
     "data": {
      "text/plain": "-3.796637965535087"
     },
     "execution_count": 19,
     "metadata": {},
     "output_type": "execute_result"
    }
   ]
  },
  {
   "cell_type": "code",
   "source": [
    "W = W - 0.01*-1.11746141"
   ],
   "metadata": {
    "id": "SyxkWdlYKALJ",
    "pycharm": {
     "name": "#%%\n"
    }
   },
   "execution_count": 20,
   "outputs": []
  },
  {
   "cell_type": "code",
   "source": [
    "W"
   ],
   "metadata": {
    "colab": {
     "base_uri": "https://localhost:8080/"
    },
    "id": "cDtAvBQ4KF7E",
    "outputId": "00a9ed69-8f2b-4ea0-d1d4-5927320ae3e8",
    "pycharm": {
     "name": "#%%\n"
    }
   },
   "execution_count": 21,
   "outputs": [
    {
     "data": {
      "text/plain": "2.6831924165756478"
     },
     "execution_count": 21,
     "metadata": {},
     "output_type": "execute_result"
    }
   ]
  },
  {
   "cell_type": "code",
   "source": [
    "for i in range(len(x)):\n",
    "    W = W - 0.01*mse(x[i], y[i], W)[0]\n",
    "    print(W)"
   ],
   "metadata": {
    "colab": {
     "base_uri": "https://localhost:8080/"
    },
    "id": "ONMqsA4mKGWO",
    "outputId": "b7d99b0a-a52b-4a7f-b51e-ba727b033d9a",
    "pycharm": {
     "name": "#%%\n"
    }
   },
   "execution_count": 23,
   "outputs": [
    {
     "name": "stdout",
     "output_type": "stream",
     "text": [
      "2.6784561888739957\n",
      "2.7161808201809547\n",
      "2.717616978619488\n",
      "2.755053433952807\n",
      "2.752800535293557\n",
      "2.759175533411573\n",
      "2.748158376694216\n",
      "2.747976364727075\n",
      "2.7534399118104447\n",
      "2.7672091885526053\n",
      "2.768376869659441\n",
      "2.7677435828297345\n",
      "2.7664898265125513\n",
      "2.76795355821972\n",
      "2.7775969449991176\n",
      "2.7768383748158785\n",
      "2.7973541737473013\n",
      "2.8272501509851646\n",
      "2.8289370809232897\n",
      "2.8255117364895654\n",
      "2.820885697295476\n",
      "2.8488012346220546\n",
      "2.843154265220855\n",
      "2.8412369772958783\n",
      "2.8460383382671206\n",
      "2.8318538632120713\n",
      "2.8357299603353616\n",
      "2.836500828301366\n",
      "2.8725581501367126\n",
      "2.8700935430737093\n",
      "2.8547311820120127\n",
      "2.8302342791437063\n",
      "2.8324061749756195\n",
      "2.8327620466552093\n",
      "2.833637051684221\n",
      "2.8459691203151474\n",
      "2.8585195072706426\n",
      "2.8493111552226895\n",
      "2.895515614179268\n",
      "2.894162528739547\n",
      "2.8964125868600794\n",
      "2.8959327882857506\n",
      "2.8791839127053405\n",
      "2.907240161478922\n",
      "2.8885350932793448\n",
      "2.8779572434636562\n",
      "2.8806125382348524\n",
      "2.88215848087366\n",
      "2.8767620433111194\n",
      "2.860453572650243\n",
      "2.8609248995667227\n",
      "2.8529222666773304\n",
      "2.8383847081443077\n",
      "2.8205208376097683\n",
      "2.8202345590911513\n",
      "2.8227277786948273\n",
      "2.835575569245724\n",
      "2.840381131430734\n",
      "2.8387615838492493\n",
      "2.838885726258032\n",
      "2.8384562008053162\n",
      "2.8463646750217557\n",
      "2.8397375361537476\n",
      "2.844271487772461\n",
      "2.846308929585837\n",
      "2.8470793265876897\n",
      "2.8298507233732253\n",
      "2.825995022381407\n",
      "2.8122446802791767\n",
      "2.8246612767289956\n",
      "2.82542609227721\n",
      "2.83075152079941\n",
      "2.8220889832619536\n",
      "2.804633083143945\n",
      "2.8076062433209388\n",
      "2.8064659047230727\n",
      "2.8114683849920357\n",
      "2.8081064411354957\n",
      "2.807128860534202\n",
      "2.8408644048971827\n",
      "2.8341457547369866\n",
      "2.8479379803821123\n",
      "2.8435596082439853\n",
      "2.825607388068705\n",
      "2.8245355910727663\n",
      "2.833313587761177\n",
      "2.8524718213456697\n",
      "2.8484991382669085\n",
      "2.851004706416791\n",
      "2.8631761612504363\n",
      "2.8752395653723517\n",
      "2.9043256931100303\n",
      "2.881516678340736\n",
      "2.8814511077588603\n",
      "2.8813361656332694\n",
      "2.914293722039531\n",
      "2.911120219810442\n",
      "2.899852412442408\n",
      "2.905477495594059\n",
      "2.896882769909289\n"
     ]
    }
   ]
  },
  {
   "cell_type": "code",
   "source": [
    "plt.scatter(x,y)\n",
    "plt.show()"
   ],
   "metadata": {
    "colab": {
     "base_uri": "https://localhost:8080/",
     "height": 265
    },
    "id": "RPZ9_HhHKb3O",
    "outputId": "c88113bc-891f-4c7e-e268-16f26f870170",
    "pycharm": {
     "name": "#%%\n"
    }
   },
   "execution_count": 24,
   "outputs": [
    {
     "data": {
      "text/plain": "<Figure size 432x288 with 1 Axes>",
      "image/png": "[encoded data removed]"
     },
     "metadata": {
      "needs_background": "light"
     },
     "output_type": "display_data"
    }
   ]
  },
  {
   "cell_type": "code",
   "source": [
    "plt.plot(x, [*map(lambda k: k*W, x)])\n",
    "plt.scatter(x,y)\n",
    "plt.show()"
   ],
   "metadata": {
    "colab": {
     "base_uri": "https://localhost:8080/",
     "height": 265
    },
    "id": "Fg09NzbJKiv4",
    "outputId": "1c3f7109-d887-494e-9419-c0998cd283c0",
    "pycharm": {
     "name": "#%%\n"
    }
   },
   "execution_count": 25,
   "outputs": [
    {
     "data": {
      "text/plain": "<Figure size 432x288 with 1 Axes>",
      "image/png": "[encoded data removed]"
     },
     "metadata": {
      "needs_background": "light"
     },
     "output_type": "display_data"
    }
   ]
  },
  {
   "cell_type": "code",
   "source": [],
   "metadata": {
    "id": "gnGDabcbKsa1",
    "pycharm": {
     "name": "#%%\n"
    }
   },
   "execution_count": null,
   "outputs": []
  }
 ]
}